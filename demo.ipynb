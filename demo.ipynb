{
 "cells": [
  {
   "cell_type": "code",
   "execution_count": 4,
   "metadata": {},
   "outputs": [],
   "source": [
    "files = {'inputs': ['/home/zaid/.cache/huggingface/datasets/downloads/extracted/7c57ad7264e6b4535a4a2571b8ed45411588b6dbd7820105dcec0dc165c3a7fe/sadid-arabic-dialect-benchmark-dataset/data/dev-egyptian.txt', '/home/zaid/.cache/huggingface/datasets/downloads/extracted/7c57ad7264e6b4535a4a2571b8ed45411588b6dbd7820105dcec0dc165c3a7fe/sadid-arabic-dialect-benchmark-dataset/data/test-egyptian.txt', '/home/zaid/.cache/huggingface/datasets/downloads/extracted/7c57ad7264e6b4535a4a2571b8ed45411588b6dbd7820105dcec0dc165c3a7fe/sadid-arabic-dialect-benchmark-dataset/data/testdev-egyptian.txt'], 'targets1': ['/home/zaid/.cache/huggingface/datasets/downloads/extracted/7c57ad7264e6b4535a4a2571b8ed45411588b6dbd7820105dcec0dc165c3a7fe/sadid-arabic-dialect-benchmark-dataset/data/dev-english.txt', '/home/zaid/.cache/huggingface/datasets/downloads/extracted/7c57ad7264e6b4535a4a2571b8ed45411588b6dbd7820105dcec0dc165c3a7fe/sadid-arabic-dialect-benchmark-dataset/data/test-english.txt', '/home/zaid/.cache/huggingface/datasets/downloads/extracted/7c57ad7264e6b4535a4a2571b8ed45411588b6dbd7820105dcec0dc165c3a7fe/sadid-arabic-dialect-benchmark-dataset/data/testdev-english.txt'], 'targets2': ['/home/zaid/.cache/huggingface/datasets/downloads/extracted/7c57ad7264e6b4535a4a2571b8ed45411588b6dbd7820105dcec0dc165c3a7fe/sadid-arabic-dialect-benchmark-dataset/data/dev-levantine.txt', '/home/zaid/.cache/huggingface/datasets/downloads/extracted/7c57ad7264e6b4535a4a2571b8ed45411588b6dbd7820105dcec0dc165c3a7fe/sadid-arabic-dialect-benchmark-dataset/data/test-levantine.txt', '/home/zaid/.cache/huggingface/datasets/downloads/extracted/7c57ad7264e6b4535a4a2571b8ed45411588b6dbd7820105dcec0dc165c3a7fe/sadid-arabic-dialect-benchmark-dataset/data/testdev-levantine.txt']}\n",
    "MAIN_SPLITS = {'train':'TRAIN', 'test':'TEST', 'valid':'VALIDATION', 'dev':'VALIDATION'}\n"
   ]
  },
  {
   "cell_type": "code",
   "execution_count": 23,
   "metadata": {},
   "outputs": [],
   "source": [
    "split_files = {}\n",
    "zip_base_dir = \"/home/zaid/.cache/huggingface/datasets/downloads/extracted/7c57ad7264e6b4535a4a2571b8ed45411588b6dbd7820105dcec0dc165c3a7fe/\"\n",
    "for i,glob_name in enumerate(files):\n",
    "    for f in files[glob_name]:\n",
    "        f = f.replace(zip_base_dir, \"\")\n",
    "        for split in MAIN_SPLITS:\n",
    "            if split in f.lower():\n",
    "                if MAIN_SPLITS[split] not in split_files:\n",
    "                    split_files[MAIN_SPLITS[split]] =f\"'{glob_name}':os.path.join(downloaded_files[0],'{f}'),\"\n",
    "                elif  glob_name in split_files[MAIN_SPLITS[split]]:\n",
    "                    split_files[MAIN_SPLITS[split]] += f\"os.path.join(downloaded_files[0],'{f}'),\"\n",
    "                else:\n",
    "                    split_files[MAIN_SPLITS[split]] += f\"'{glob_name}':os.path.join(downloaded_files[0],'{f}'),\"\n",
    "                    "
   ]
  },
  {
   "cell_type": "code",
   "execution_count": 24,
   "metadata": {},
   "outputs": [
    {
     "data": {
      "text/plain": [
       "{'VALIDATION': \"'inputs':os.path.join(downloaded_files[0],'sadid-arabic-dialect-benchmark-dataset/data/dev-egyptian.txt'),os.path.join(downloaded_files[0],'sadid-arabic-dialect-benchmark-dataset/data/testdev-egyptian.txt'),'targets1':os.path.join(downloaded_files[0],'sadid-arabic-dialect-benchmark-dataset/data/dev-english.txt'),os.path.join(downloaded_files[0],'sadid-arabic-dialect-benchmark-dataset/data/testdev-english.txt'),'targets2':os.path.join(downloaded_files[0],'sadid-arabic-dialect-benchmark-dataset/data/dev-levantine.txt'),os.path.join(downloaded_files[0],'sadid-arabic-dialect-benchmark-dataset/data/testdev-levantine.txt'),\",\n",
       " 'TEST': \"'inputs':os.path.join(downloaded_files[0],'sadid-arabic-dialect-benchmark-dataset/data/test-egyptian.txt'),os.path.join(downloaded_files[0],'sadid-arabic-dialect-benchmark-dataset/data/testdev-egyptian.txt'),'targets1':os.path.join(downloaded_files[0],'sadid-arabic-dialect-benchmark-dataset/data/test-english.txt'),os.path.join(downloaded_files[0],'sadid-arabic-dialect-benchmark-dataset/data/testdev-english.txt'),'targets2':os.path.join(downloaded_files[0],'sadid-arabic-dialect-benchmark-dataset/data/test-levantine.txt'),os.path.join(downloaded_files[0],'sadid-arabic-dialect-benchmark-dataset/data/testdev-levantine.txt'),\"}"
      ]
     },
     "execution_count": 24,
     "metadata": {},
     "output_type": "execute_result"
    }
   ],
   "source": [
    "split_files"
   ]
  },
  {
   "cell_type": "code",
   "execution_count": 25,
   "metadata": {},
   "outputs": [
    {
     "name": "stderr",
     "output_type": "stream",
     "text": [
      "/usr/lib/python3/dist-packages/requests/__init__.py:89: RequestsDependencyWarning: urllib3 (1.26.12) or chardet (3.0.4) doesn't match a supported version!\n",
      "  warnings.warn(\"urllib3 ({}) or chardet ({}) doesn't match a supported \"\n"
     ]
    }
   ],
   "source": [
    "from datasets import load_dataset"
   ]
  },
  {
   "cell_type": "code",
   "execution_count": 26,
   "metadata": {},
   "outputs": [
    {
     "name": "stderr",
     "output_type": "stream",
     "text": [
      "Using custom data configuration default\n",
      "Reusing dataset sadid (/home/zaid/.cache/huggingface/datasets/sadid/default/0.0.0/5d4aa00f03188bec80fc809c9cb0cbf33dec724a1104e102feb92f3a80174da1)\n"
     ]
    },
    {
     "data": {
      "application/vnd.jupyter.widget-view+json": {
       "model_id": "b67661c31cf740efa560406f193903f1",
       "version_major": 2,
       "version_minor": 0
      },
      "text/plain": [
       "  0%|          | 0/2 [00:00<?, ?it/s]"
      ]
     },
     "metadata": {},
     "output_type": "display_data"
    }
   ],
   "source": [
    "dataset = load_dataset('datasets/SADID/')"
   ]
  },
  {
   "cell_type": "code",
   "execution_count": 27,
   "metadata": {},
   "outputs": [
    {
     "data": {
      "text/plain": [
       "DatasetDict({\n",
       "    validation: Dataset({\n",
       "        features: ['egyptian', 'english', 'levantine'],\n",
       "        num_rows: 2997\n",
       "    })\n",
       "    test: Dataset({\n",
       "        features: ['egyptian', 'english', 'levantine'],\n",
       "        num_rows: 2994\n",
       "    })\n",
       "})"
      ]
     },
     "execution_count": 27,
     "metadata": {},
     "output_type": "execute_result"
    }
   ],
   "source": [
    "dataset"
   ]
  },
  {
   "cell_type": "code",
   "execution_count": 30,
   "metadata": {},
   "outputs": [
    {
     "data": {
      "text/plain": [
       "{'egyptian': 'جواب العبور بتاعي؟ انا ممكن ازبط سفرية، بس ده مش هيفرق حاجة بخصوص الرهان بتاعنا. بس انا لسه مداينك بألف فرنك.',\n",
       " 'english': \"My letter of transit? I could use a trip. But it doesn't make any difference about our bet. You still owe me ten thousand francs.\",\n",
       " 'levantine': 'بتقصد بطاقة العبور تبعتي؟ بقدر أروح  رحلة. بس ما رح يتغير شي في الرهان تبعنا . لساتني بدي منك عشرة آلاف فرنك.'}"
      ]
     },
     "execution_count": 30,
     "metadata": {},
     "output_type": "execute_result"
    }
   ],
   "source": [
    "dataset['test'][1]"
   ]
  },
  {
   "cell_type": "code",
   "execution_count": 32,
   "metadata": {},
   "outputs": [
    {
     "name": "stderr",
     "output_type": "stream",
     "text": [
      "Pushing split validation to the Hub.\n"
     ]
    },
    {
     "data": {
      "application/vnd.jupyter.widget-view+json": {
       "model_id": "e4e991b8c7674c5f8b588b4aa97857b3",
       "version_major": 2,
       "version_minor": 0
      },
      "text/plain": [
       "Pushing dataset shards to the dataset hub:   0%|          | 0/1 [00:00<?, ?it/s]"
      ]
     },
     "metadata": {},
     "output_type": "display_data"
    },
    {
     "name": "stderr",
     "output_type": "stream",
     "text": [
      "/home/zaid/.local/lib/python3.8/site-packages/huggingface_hub/hf_api.py:2165: FutureWarning: `identical_ok` has no effect and is deprecated. It will be removed in 0.11.0.\n",
      "  warnings.warn(\n",
      "Pushing split test to the Hub.\n"
     ]
    },
    {
     "data": {
      "application/vnd.jupyter.widget-view+json": {
       "model_id": "0a6ceed734c447d8b9447c3cc094c1e6",
       "version_major": 2,
       "version_minor": 0
      },
      "text/plain": [
       "Pushing dataset shards to the dataset hub:   0%|          | 0/1 [00:00<?, ?it/s]"
      ]
     },
     "metadata": {},
     "output_type": "display_data"
    }
   ],
   "source": [
    "dataset.push_to_hub('arbml/SADID')"
   ]
  },
  {
   "cell_type": "code",
   "execution_count": 33,
   "metadata": {},
   "outputs": [],
   "source": [
    "from utils import get_df"
   ]
  },
  {
   "cell_type": "code",
   "execution_count": null,
   "metadata": {},
   "outputs": [],
   "source": [
    "files = {'inputs':['kjk.wav', 'kjkjfd.wav'], 'targets1':['kjk.txt','kjkjfd.txt']}"
   ]
  }
 ],
 "metadata": {
  "kernelspec": {
   "display_name": "Python 3.8.10 64-bit",
   "language": "python",
   "name": "python3"
  },
  "language_info": {
   "codemirror_mode": {
    "name": "ipython",
    "version": 3
   },
   "file_extension": ".py",
   "mimetype": "text/x-python",
   "name": "python",
   "nbconvert_exporter": "python",
   "pygments_lexer": "ipython3",
   "version": "3.8.10"
  },
  "orig_nbformat": 4,
  "vscode": {
   "interpreter": {
    "hash": "5b3ded1ccb95c1d9bd405e7b823d9e85424cde40fbb5985eb47e999ef50e15b4"
   }
  }
 },
 "nbformat": 4,
 "nbformat_minor": 2
}
