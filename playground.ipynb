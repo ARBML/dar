{
 "cells": [
  {
   "cell_type": "code",
   "execution_count": 4,
   "metadata": {},
   "outputs": [],
   "source": [
    "files = {'inputs': ['/home/zaid/.cache/huggingface/datasets/downloads/extracted/7c57ad7264e6b4535a4a2571b8ed45411588b6dbd7820105dcec0dc165c3a7fe/sadid-arabic-dialect-benchmark-dataset/data/dev-egyptian.txt', '/home/zaid/.cache/huggingface/datasets/downloads/extracted/7c57ad7264e6b4535a4a2571b8ed45411588b6dbd7820105dcec0dc165c3a7fe/sadid-arabic-dialect-benchmark-dataset/data/test-egyptian.txt', '/home/zaid/.cache/huggingface/datasets/downloads/extracted/7c57ad7264e6b4535a4a2571b8ed45411588b6dbd7820105dcec0dc165c3a7fe/sadid-arabic-dialect-benchmark-dataset/data/testdev-egyptian.txt'], 'targets1': ['/home/zaid/.cache/huggingface/datasets/downloads/extracted/7c57ad7264e6b4535a4a2571b8ed45411588b6dbd7820105dcec0dc165c3a7fe/sadid-arabic-dialect-benchmark-dataset/data/dev-english.txt', '/home/zaid/.cache/huggingface/datasets/downloads/extracted/7c57ad7264e6b4535a4a2571b8ed45411588b6dbd7820105dcec0dc165c3a7fe/sadid-arabic-dialect-benchmark-dataset/data/test-english.txt', '/home/zaid/.cache/huggingface/datasets/downloads/extracted/7c57ad7264e6b4535a4a2571b8ed45411588b6dbd7820105dcec0dc165c3a7fe/sadid-arabic-dialect-benchmark-dataset/data/testdev-english.txt'], 'targets2': ['/home/zaid/.cache/huggingface/datasets/downloads/extracted/7c57ad7264e6b4535a4a2571b8ed45411588b6dbd7820105dcec0dc165c3a7fe/sadid-arabic-dialect-benchmark-dataset/data/dev-levantine.txt', '/home/zaid/.cache/huggingface/datasets/downloads/extracted/7c57ad7264e6b4535a4a2571b8ed45411588b6dbd7820105dcec0dc165c3a7fe/sadid-arabic-dialect-benchmark-dataset/data/test-levantine.txt', '/home/zaid/.cache/huggingface/datasets/downloads/extracted/7c57ad7264e6b4535a4a2571b8ed45411588b6dbd7820105dcec0dc165c3a7fe/sadid-arabic-dialect-benchmark-dataset/data/testdev-levantine.txt']}\n",
    "MAIN_SPLITS = {'train':'TRAIN', 'test':'TEST', 'valid':'VALIDATION', 'dev':'VALIDATION'}\n"
   ]
  },
  {
   "cell_type": "code",
   "execution_count": 23,
   "metadata": {},
   "outputs": [],
   "source": [
    "split_files = {}\n",
    "zip_base_dir = \"/home/zaid/.cache/huggingface/datasets/downloads/extracted/7c57ad7264e6b4535a4a2571b8ed45411588b6dbd7820105dcec0dc165c3a7fe/\"\n",
    "for i,glob_name in enumerate(files):\n",
    "    for f in files[glob_name]:\n",
    "        f = f.replace(zip_base_dir, \"\")\n",
    "        for split in MAIN_SPLITS:\n",
    "            if split in f.lower():\n",
    "                if MAIN_SPLITS[split] not in split_files:\n",
    "                    split_files[MAIN_SPLITS[split]] =f\"'{glob_name}':os.path.join(downloaded_files[0],'{f}'),\"\n",
    "                elif  glob_name in split_files[MAIN_SPLITS[split]]:\n",
    "                    split_files[MAIN_SPLITS[split]] += f\"os.path.join(downloaded_files[0],'{f}'),\"\n",
    "                else:\n",
    "                    split_files[MAIN_SPLITS[split]] += f\"'{glob_name}':os.path.join(downloaded_files[0],'{f}'),\"\n",
    "                    "
   ]
  },
  {
   "cell_type": "code",
   "execution_count": 24,
   "metadata": {},
   "outputs": [
    {
     "data": {
      "text/plain": [
       "{'VALIDATION': \"'inputs':os.path.join(downloaded_files[0],'sadid-arabic-dialect-benchmark-dataset/data/dev-egyptian.txt'),os.path.join(downloaded_files[0],'sadid-arabic-dialect-benchmark-dataset/data/testdev-egyptian.txt'),'targets1':os.path.join(downloaded_files[0],'sadid-arabic-dialect-benchmark-dataset/data/dev-english.txt'),os.path.join(downloaded_files[0],'sadid-arabic-dialect-benchmark-dataset/data/testdev-english.txt'),'targets2':os.path.join(downloaded_files[0],'sadid-arabic-dialect-benchmark-dataset/data/dev-levantine.txt'),os.path.join(downloaded_files[0],'sadid-arabic-dialect-benchmark-dataset/data/testdev-levantine.txt'),\",\n",
       " 'TEST': \"'inputs':os.path.join(downloaded_files[0],'sadid-arabic-dialect-benchmark-dataset/data/test-egyptian.txt'),os.path.join(downloaded_files[0],'sadid-arabic-dialect-benchmark-dataset/data/testdev-egyptian.txt'),'targets1':os.path.join(downloaded_files[0],'sadid-arabic-dialect-benchmark-dataset/data/test-english.txt'),os.path.join(downloaded_files[0],'sadid-arabic-dialect-benchmark-dataset/data/testdev-english.txt'),'targets2':os.path.join(downloaded_files[0],'sadid-arabic-dialect-benchmark-dataset/data/test-levantine.txt'),os.path.join(downloaded_files[0],'sadid-arabic-dialect-benchmark-dataset/data/testdev-levantine.txt'),\"}"
      ]
     },
     "execution_count": 24,
     "metadata": {},
     "output_type": "execute_result"
    }
   ],
   "source": [
    "split_files"
   ]
  },
  {
   "cell_type": "code",
   "execution_count": 1,
   "metadata": {},
   "outputs": [
    {
     "name": "stderr",
     "output_type": "stream",
     "text": [
      "/usr/lib/python3/dist-packages/requests/__init__.py:89: RequestsDependencyWarning: urllib3 (1.26.12) or chardet (3.0.4) doesn't match a supported version!\n",
      "  warnings.warn(\"urllib3 ({}) or chardet ({}) doesn't match a supported \"\n"
     ]
    }
   ],
   "source": [
    "from datasets import load_dataset"
   ]
  },
  {
   "cell_type": "code",
   "execution_count": 33,
   "metadata": {},
   "outputs": [
    {
     "name": "stderr",
     "output_type": "stream",
     "text": [
      "Using custom data configuration default\n"
     ]
    },
    {
     "name": "stdout",
     "output_type": "stream",
     "text": [
      "Downloading and preparing dataset at_odsta/default to /home/zaid/.cache/huggingface/datasets/at_odsta/default/0.0.0/e33b89dea9594880adcfbf7e3478a71113632924708b7a7242e15202534649b5...\n"
     ]
    },
    {
     "data": {
      "application/vnd.jupyter.widget-view+json": {
       "model_id": "4bddc3f36e9742a29f3fe605ff16e833",
       "version_major": 2,
       "version_minor": 0
      },
      "text/plain": [
       "Downloading data files:   0%|          | 0/1 [00:00<?, ?it/s]"
      ]
     },
     "metadata": {},
     "output_type": "display_data"
    },
    {
     "data": {
      "application/vnd.jupyter.widget-view+json": {
       "model_id": "bf326416d8334b439dea9671cb00453d",
       "version_major": 2,
       "version_minor": 0
      },
      "text/plain": [
       "Generating train split: 0 examples [00:00, ? examples/s]"
      ]
     },
     "metadata": {},
     "output_type": "display_data"
    },
    {
     "name": "stdout",
     "output_type": "stream",
     "text": [
      "Dataset at_odsta downloaded and prepared to /home/zaid/.cache/huggingface/datasets/at_odsta/default/0.0.0/e33b89dea9594880adcfbf7e3478a71113632924708b7a7242e15202534649b5. Subsequent calls will reuse this data.\n"
     ]
    },
    {
     "data": {
      "application/vnd.jupyter.widget-view+json": {
       "model_id": "6c3f9b42d74a428f99203dc8248785c7",
       "version_major": 2,
       "version_minor": 0
      },
      "text/plain": [
       "  0%|          | 0/1 [00:00<?, ?it/s]"
      ]
     },
     "metadata": {},
     "output_type": "display_data"
    }
   ],
   "source": [
    "dataset = load_dataset('datasets/AT_ODSTA')"
   ]
  },
  {
   "cell_type": "code",
   "execution_count": 34,
   "metadata": {},
   "outputs": [
    {
     "data": {
      "text/plain": [
       "{'tweet': 'أنا بالنسبة لي أبغى أقابل فريق ليفربول كلهم واحد واحد و أشكرهم على جهدهم و تعبهم عشان يسعدوننا و لكن لو لاعب واحد بس فأنا أبغى أقابل محمد صلاح و أقول : (( شكرا على تمثيلك لمصر و إعطائنا أمل للمستقبل أمل أنك توصل لأهدافك و طموحاتك مهما كانت صعبة شكرا يا فخر العرب )) .',\n",
       " 'goal': 'محمد صلاح',\n",
       " 'category': '1',\n",
       " 'type': 'شخصيات رياضية'}"
      ]
     },
     "execution_count": 34,
     "metadata": {},
     "output_type": "execute_result"
    }
   ],
   "source": [
    "dataset['train'][0]"
   ]
  },
  {
   "cell_type": "code",
   "execution_count": 9,
   "metadata": {},
   "outputs": [
    {
     "data": {
      "text/plain": [
       "{'Term': 'ابن الاحبي', 'Egyptian/collequial ': '1', 'MSA': '0', 'label': 0}"
      ]
     },
     "execution_count": 9,
     "metadata": {},
     "output_type": "execute_result"
    }
   ],
   "source": []
  },
  {
   "cell_type": "code",
   "execution_count": 35,
   "metadata": {},
   "outputs": [
    {
     "name": "stderr",
     "output_type": "stream",
     "text": [
      "Pushing split train to the Hub.\n"
     ]
    },
    {
     "data": {
      "application/vnd.jupyter.widget-view+json": {
       "model_id": "74ae5a638cd54ea4b782dad402514c50",
       "version_major": 2,
       "version_minor": 0
      },
      "text/plain": [
       "Pushing dataset shards to the dataset hub:   0%|          | 0/1 [00:00<?, ?it/s]"
      ]
     },
     "metadata": {},
     "output_type": "display_data"
    },
    {
     "name": "stderr",
     "output_type": "stream",
     "text": [
      "/home/zaid/.local/lib/python3.8/site-packages/huggingface_hub/hf_api.py:2165: FutureWarning: `identical_ok` has no effect and is deprecated. It will be removed in 0.11.0.\n",
      "  warnings.warn(\n"
     ]
    },
    {
     "data": {
      "application/vnd.jupyter.widget-view+json": {
       "model_id": "df2119e67ef94b04bdc1899bc2c4e085",
       "version_major": 2,
       "version_minor": 0
      },
      "text/plain": [
       "Deleting unused files from dataset repository:   0%|          | 0/1 [00:00<?, ?it/s]"
      ]
     },
     "metadata": {},
     "output_type": "display_data"
    }
   ],
   "source": [
    "dataset.push_to_hub('arbml/AT_ODSTA')"
   ]
  },
  {
   "cell_type": "code",
   "execution_count": 36,
   "metadata": {},
   "outputs": [],
   "source": [
    "from utils import get_df"
   ]
  },
  {
   "cell_type": "code",
   "execution_count": 39,
   "metadata": {},
   "outputs": [
    {
     "data": {
      "text/plain": [
       "(                                              dialogue\n",
       " 0    \\nأي تفضل خويا\\nمع وقتاش بلله إي إي التران يمش...\n",
       " 1    \\nسلام عليكم بلله تكيه لتونس بقداه\\nثناش وتسعم...\n",
       " 2    \\nسلام عليكم\\nزوز  زوز لتونس\\nوقتاش يخرج هو\\nم...\n",
       " 3    \\nأي خويا\\nبلله  تسكرة لتونس ماضي ساعة\\nماضي س...\n",
       " 4    \\nسلام\\nاون براتيك وقتاش التران\\nأه\\nالتران وق...\n",
       " ..                                                 ...\n",
       " 429                                  \\nوحده حمام لنف\\n\n",
       " 430  \\nعسلامه\\nتر سلّم سيدي آش نعملولك ايه\\nبالله ن...\n",
       " 431  \\nالله يعينك\\nالله يعينك\\nقابس وقتاش؟\\nلربعه و...\n",
       " 432               \\nمازال تران سوسه؟\\nأيه\\nمرسي عليك\\n\n",
       " 433             \\nسلام عليكم بالله الورقه\\nهاذي ورقه\\n\n",
       " \n",
       " [434 rows x 1 columns],\n",
       " '')"
      ]
     },
     "execution_count": 39,
     "metadata": {},
     "output_type": "execute_result"
    }
   ],
   "source": [
    "get_df('xml', {'inputs': ['/home/zaid/.cache/huggingface/datasets/downloads/874ee9be655b09a3adb202c82c53fc683f9a6b7bfe2104c890d158ed6aba4798.8716fc5230bfdc267d3af2166fc9f25184c05e4c736778ab8724c8d0caf7b143']}, columns = ['dialogue'])"
   ]
  },
  {
   "cell_type": "code",
   "execution_count": 48,
   "metadata": {},
   "outputs": [],
   "source": [
    "df = get_df('wav', files)"
   ]
  },
  {
   "cell_type": "code",
   "execution_count": 49,
   "metadata": {},
   "outputs": [
    {
     "data": {
      "text/html": [
       "<div>\n",
       "<style scoped>\n",
       "    .dataframe tbody tr th:only-of-type {\n",
       "        vertical-align: middle;\n",
       "    }\n",
       "\n",
       "    .dataframe tbody tr th {\n",
       "        vertical-align: top;\n",
       "    }\n",
       "\n",
       "    .dataframe thead th {\n",
       "        text-align: right;\n",
       "    }\n",
       "</style>\n",
       "<table border=\"1\" class=\"dataframe\">\n",
       "  <thead>\n",
       "    <tr style=\"text-align: right;\">\n",
       "      <th></th>\n",
       "      <th>path</th>\n",
       "      <th>audio</th>\n",
       "      <th>text</th>\n",
       "    </tr>\n",
       "  </thead>\n",
       "  <tbody>\n",
       "    <tr>\n",
       "      <th>0</th>\n",
       "      <td>/home/zaid/.cache/huggingface/datasets/downloa...</td>\n",
       "      <td>/home/zaid/.cache/huggingface/datasets/downloa...</td>\n",
       "      <td>تفاوضيه هل هذه وارده من وجهه نظركم باختصار هذا...</td>\n",
       "    </tr>\n",
       "    <tr>\n",
       "      <th>0</th>\n",
       "      <td>/home/zaid/.cache/huggingface/datasets/downloa...</td>\n",
       "      <td>/home/zaid/.cache/huggingface/datasets/downloa...</td>\n",
       "      <td>تفاوضيه هل هذه وارده من وجهه نظركم باختصار هذا...</td>\n",
       "    </tr>\n",
       "  </tbody>\n",
       "</table>\n",
       "</div>"
      ],
      "text/plain": [
       "                                                path  \\\n",
       "0  /home/zaid/.cache/huggingface/datasets/downloa...   \n",
       "0  /home/zaid/.cache/huggingface/datasets/downloa...   \n",
       "\n",
       "                                               audio  \\\n",
       "0  /home/zaid/.cache/huggingface/datasets/downloa...   \n",
       "0  /home/zaid/.cache/huggingface/datasets/downloa...   \n",
       "\n",
       "                                                text  \n",
       "0  تفاوضيه هل هذه وارده من وجهه نظركم باختصار هذا...  \n",
       "0  تفاوضيه هل هذه وارده من وجهه نظركم باختصار هذا...  "
      ]
     },
     "execution_count": 49,
     "metadata": {},
     "output_type": "execute_result"
    }
   ],
   "source": [
    "df[0]"
   ]
  },
  {
   "cell_type": "code",
   "execution_count": 50,
   "metadata": {},
   "outputs": [
    {
     "data": {
      "text/plain": [
       "(2, 3)"
      ]
     },
     "execution_count": 50,
     "metadata": {},
     "output_type": "execute_result"
    }
   ],
   "source": [
    "df[0].shape"
   ]
  },
  {
   "cell_type": "code",
   "execution_count": null,
   "metadata": {},
   "outputs": [],
   "source": []
  }
 ],
 "metadata": {
  "kernelspec": {
   "display_name": "Python 3.8.10 64-bit",
   "language": "python",
   "name": "python3"
  },
  "language_info": {
   "codemirror_mode": {
    "name": "ipython",
    "version": 3
   },
   "file_extension": ".py",
   "mimetype": "text/x-python",
   "name": "python",
   "nbconvert_exporter": "python",
   "pygments_lexer": "ipython3",
   "version": "3.8.10"
  },
  "orig_nbformat": 4,
  "vscode": {
   "interpreter": {
    "hash": "5b3ded1ccb95c1d9bd405e7b823d9e85424cde40fbb5985eb47e999ef50e15b4"
   }
  }
 },
 "nbformat": 4,
 "nbformat_minor": 2
}
